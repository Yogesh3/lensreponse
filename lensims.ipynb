{
 "cells": [
  {
   "cell_type": "code",
   "execution_count": 1,
   "metadata": {},
   "outputs": [
    {
     "name": "stdout",
     "output_type": "stream",
     "text": [
      "WARNING: mpi4py could not be loaded. Falling back to fake MPI. This means that if you submitted multiple processes, they will all be assigned the same rank of 0, and they are potentially doing the same thing.\n"
     ]
    },
    {
     "ename": "ModuleNotFoundError",
     "evalue": "No module named 'actsims'",
     "output_type": "error",
     "traceback": [
      "\u001b[0;31m---------------------------------------------------------------------------\u001b[0m",
      "\u001b[0;31mModuleNotFoundError\u001b[0m                       Traceback (most recent call last)",
      "\u001b[0;32m<ipython-input-1-f264697bfb2b>\u001b[0m in \u001b[0;36m<module>\u001b[0;34m\u001b[0m\n\u001b[1;32m      4\u001b[0m \u001b[0;32mimport\u001b[0m \u001b[0mos\u001b[0m\u001b[0;34m,\u001b[0m\u001b[0msys\u001b[0m\u001b[0;34m\u001b[0m\u001b[0;34m\u001b[0m\u001b[0m\n\u001b[1;32m      5\u001b[0m \u001b[0;32mfrom\u001b[0m \u001b[0msoapack\u001b[0m \u001b[0;32mimport\u001b[0m \u001b[0minterfaces\u001b[0m \u001b[0;32mas\u001b[0m \u001b[0msints\u001b[0m\u001b[0;34m\u001b[0m\u001b[0;34m\u001b[0m\u001b[0m\n\u001b[0;32m----> 6\u001b[0;31m \u001b[0;32mfrom\u001b[0m \u001b[0mfalafel\u001b[0m \u001b[0;32mimport\u001b[0m \u001b[0mqe\u001b[0m\u001b[0;34m,\u001b[0m\u001b[0mutils\u001b[0m \u001b[0;32mas\u001b[0m \u001b[0mfutils\u001b[0m\u001b[0;34m\u001b[0m\u001b[0;34m\u001b[0m\u001b[0m\n\u001b[0m\u001b[1;32m      7\u001b[0m \u001b[0;32mimport\u001b[0m \u001b[0msolenspipe\u001b[0m\u001b[0;34m\u001b[0m\u001b[0;34m\u001b[0m\u001b[0m\n",
      "\u001b[0;32m~/.local/lib/python3.7/site-packages/falafel-0.1.0-py3.7.egg/falafel/utils.py\u001b[0m in \u001b[0;36m<module>\u001b[0;34m\u001b[0m\n\u001b[1;32m     10\u001b[0m \u001b[0;32mfrom\u001b[0m \u001b[0;34m.\u001b[0m \u001b[0;32mimport\u001b[0m \u001b[0mqe\u001b[0m\u001b[0;34m\u001b[0m\u001b[0;34m\u001b[0m\u001b[0m\n\u001b[1;32m     11\u001b[0m \u001b[0;32mimport\u001b[0m \u001b[0mmath\u001b[0m\u001b[0;34m\u001b[0m\u001b[0;34m\u001b[0m\u001b[0m\n\u001b[0;32m---> 12\u001b[0;31m \u001b[0;32mfrom\u001b[0m \u001b[0mactsims\u001b[0m\u001b[0;34m.\u001b[0m\u001b[0msignal\u001b[0m \u001b[0;32mimport\u001b[0m \u001b[0mget_cmb_alm_v0p5\u001b[0m\u001b[0;34m,\u001b[0m\u001b[0mget_input_alms_v0p5\u001b[0m\u001b[0;34m\u001b[0m\u001b[0;34m\u001b[0m\u001b[0m\n\u001b[0m\u001b[1;32m     13\u001b[0m \u001b[0;34m\u001b[0m\u001b[0m\n\u001b[1;32m     14\u001b[0m \u001b[0mconfig\u001b[0m \u001b[0;34m=\u001b[0m \u001b[0mio\u001b[0m\u001b[0;34m.\u001b[0m\u001b[0mconfig_from_yaml\u001b[0m\u001b[0;34m(\u001b[0m\u001b[0mos\u001b[0m\u001b[0;34m.\u001b[0m\u001b[0mpath\u001b[0m\u001b[0;34m.\u001b[0m\u001b[0mdirname\u001b[0m\u001b[0;34m(\u001b[0m\u001b[0mos\u001b[0m\u001b[0;34m.\u001b[0m\u001b[0mpath\u001b[0m\u001b[0;34m.\u001b[0m\u001b[0mabspath\u001b[0m\u001b[0;34m(\u001b[0m\u001b[0m__file__\u001b[0m\u001b[0;34m)\u001b[0m\u001b[0;34m)\u001b[0m \u001b[0;34m+\u001b[0m \u001b[0;34m\"/../input/config.yml\"\u001b[0m\u001b[0;34m)\u001b[0m\u001b[0;34m\u001b[0m\u001b[0;34m\u001b[0m\u001b[0m\n",
      "\u001b[0;31mModuleNotFoundError\u001b[0m: No module named 'actsims'"
     ]
    }
   ],
   "source": [
    "from orphics import maps,io # helper functions\n",
    "from pixell import enmap, curvedsky as cs\n",
    "import numpy as np\n",
    "import os,sys\n",
    "from soapack import interfaces as sints\n",
    "from falafel import qe,utils as futils\n",
    "import solenspipe"
   ]
  },
  {
   "cell_type": "code",
   "execution_count": null,
   "metadata": {},
   "outputs": [],
   "source": [
    "# ACT data\n",
    "# qid = 'd56_01' # D56 S14 PA1 150 GHz, see soapack/soapack/data/all_arrays_dr5.csv\n",
    "# mask = sints.get_binary_apodized_mask(qid)\n",
    "# dm = sints.DR5(region=mask)\n",
    "# imap = dm.get_splits(qid)[0,0]\n",
    "# dfact = 4\n",
    "# mask = enmap.downgrade(mask,dfact)\n",
    "# imap = enmap.downgrade(imap,dfact)"
   ]
  },
  {
   "cell_type": "code",
   "execution_count": null,
   "metadata": {},
   "outputs": [],
   "source": [
    "#Get Data\n",
    "inkappa_path = '/scratch/r/rbond/msyriac/data/sims/alex/v0.4/'\n",
    "mask_path = '/home/r/rbond/jiaqu/scratch/DR6/maps/sims/map_masks/BN_bottomcutsmooth1.fits'\n",
    "mask_map = enmap.read_map(mask_path)"
   ]
  },
  {
   "cell_type": "code",
   "execution_count": null,
   "metadata": {},
   "outputs": [],
   "source": [
    "# Set up lensing reconstruction parameters\n",
    "shape,wcs = mask.shape,mask.wcs\n",
    "mlmax = 4000\n",
    "\n",
    "# beam_fwhm = 1.4\n",
    "# noise_t = 30.0\n",
    "beam_fwhm = 0.\n",
    "noise_t = 0.\n",
    "ucls, tcls = futils.get_theory_dicts_white_noise(beam_fwhm,noise_t)"
   ]
  },
  {
   "cell_type": "code",
   "execution_count": null,
   "metadata": {},
   "outputs": [],
   "source": [
    "# fTalm  -- beam deconvolved, inverse-variance filtered map\n",
    "alm = cs.map2alm(imap*mask,lmax=mlmax) # alm transform the map\n",
    "\"\"\"\n",
    "alm / (C_TT + N_TT/beam**2)  / beam\n",
    "tcls['TT'] = C_TT + N_TT/beam**2\n",
    "\n",
    "\"\"\"\n",
    "lmin = 600\n",
    "lmax = 3000\n",
    "fTalm = futils.isotropic_filter([alm,alm*0,alm*0],tcls,lmin,lmax,ignore_te=True)[0]\n",
    "# fTalm = cs.almxfl(fTalm,lambda ells: 1./maps.gauss_beam(ells,beam_fwhm))\n",
    "\n",
    "# Set up internal geometry\n",
    "px = qe.pixelization(shape=shape,wcs=wcs)"
   ]
  },
  {
   "cell_type": "code",
   "execution_count": null,
   "metadata": {},
   "outputs": [],
   "source": [
    "#Run the estimator\n",
    "wrapper = False\n",
    "if wrapper:\n",
    "    # Use the SO-lenspipe wrapper\n",
    "    qfunc = solenspipe.get_qfunc(px,ucls,mlmax,\"TT\")\n",
    "    recon_alms = qfunc([fTalm,fTalm*0,fTalm*0],[fTalm,fTalm*0,fTalm*0])\n",
    "else:\n",
    "    # Direct call to falafel, more flexible\n",
    "    recon_alms = qe.qe_all(px,ucls,mlmax,\n",
    "                           fTalm=fTalm,fEalm=fTalm*0,fBalm=fTalm*0,\n",
    "                           estimators=['mv'])['mv']"
   ]
  },
  {
   "cell_type": "code",
   "execution_count": null,
   "metadata": {},
   "outputs": [],
   "source": [
    "# Project reconstruction alms to a real-space map\n",
    "kappa_map = cs.alm2map(recon_alms,enmap.empty(shape,wcs,dtype=np.float32))\n",
    "\n",
    "# Plot the kappa map\n",
    "io.hplot(kappa_map,'kappa_map',downgrade=4)"
   ]
  }
 ],
 "metadata": {
  "kernelspec": {
   "display_name": "MyEnv",
   "language": "python",
   "name": "myenv"
  },
  "language_info": {
   "codemirror_mode": {
    "name": "ipython",
    "version": 3
   },
   "file_extension": ".py",
   "mimetype": "text/x-python",
   "name": "python",
   "nbconvert_exporter": "python",
   "pygments_lexer": "ipython3",
   "version": "3.7.7"
  }
 },
 "nbformat": 4,
 "nbformat_minor": 4
}
